{
  "nbformat": 4,
  "nbformat_minor": 0,
  "metadata": {
    "colab": {
      "name": "4_prep_data.ipynb",
      "version": "0.3.2",
      "provenance": [],
      "include_colab_link": true
    },
    "kernelspec": {
      "name": "python3",
      "display_name": "Python 3"
    }
  },
  "cells": [
    {
      "cell_type": "markdown",
      "metadata": {
        "id": "view-in-github",
        "colab_type": "text"
      },
      "source": [
        "<a href=\"https://colab.research.google.com/github/prog815/coursera-python-for-data-science/blob/master/4_prep_data.ipynb\" target=\"_parent\"><img src=\"https://colab.research.google.com/assets/colab-badge.svg\" alt=\"Open In Colab\"/></a>"
      ]
    },
    {
      "cell_type": "markdown",
      "metadata": {
        "id": "8ga5BsqfLCam",
        "colab_type": "text"
      },
      "source": [
        "# Подготовка данных\n",
        "\n",
        "ручками проходим примеры https://www.coursera.org/learn/python-for-data-science/home/week/1"
      ]
    },
    {
      "cell_type": "markdown",
      "metadata": {
        "id": "X_l4WtRJN-Rj",
        "colab_type": "text"
      },
      "source": [
        "## 4.1 Знакомство с библиотекой pandas"
      ]
    },
    {
      "cell_type": "code",
      "metadata": {
        "id": "72IHG-Z6K64F",
        "colab_type": "code",
        "colab": {}
      },
      "source": [
        "import pandas as pd"
      ],
      "execution_count": 0,
      "outputs": []
    },
    {
      "cell_type": "markdown",
      "metadata": {
        "id": "PlVDh6fFN6MH",
        "colab_type": "text"
      },
      "source": [
        "## 4.2 Объект pandas.Series"
      ]
    },
    {
      "cell_type": "code",
      "metadata": {
        "id": "18lsLK3RLNj2",
        "colab_type": "code",
        "outputId": "f7e11ce7-40d7-4182-9dd6-1be7d040b851",
        "colab": {
          "base_uri": "https://localhost:8080/",
          "height": 121
        }
      },
      "source": [
        "pd.Series([1,2,3,4,5],index=[-1,-2,-3,-4,-5])"
      ],
      "execution_count": 2,
      "outputs": [
        {
          "output_type": "execute_result",
          "data": {
            "text/plain": [
              "-1    1\n",
              "-2    2\n",
              "-3    3\n",
              "-4    4\n",
              "-5    5\n",
              "dtype: int64"
            ]
          },
          "metadata": {
            "tags": []
          },
          "execution_count": 2
        }
      ]
    },
    {
      "cell_type": "code",
      "metadata": {
        "id": "urMCJfCYOLWt",
        "colab_type": "code",
        "colab": {}
      },
      "source": [
        "d = {'Moscow': 1000, 'London': 300, 'Barcelona': None}\n",
        "cities = pd.Series(d)"
      ],
      "execution_count": 0,
      "outputs": []
    },
    {
      "cell_type": "code",
      "metadata": {
        "id": "xMZTFPpVObTW",
        "colab_type": "code",
        "outputId": "89dbb44d-07bd-476b-88af-e3f8fadce9df",
        "colab": {
          "base_uri": "https://localhost:8080/",
          "height": 87
        }
      },
      "source": [
        "cities"
      ],
      "execution_count": 4,
      "outputs": [
        {
          "output_type": "execute_result",
          "data": {
            "text/plain": [
              "Moscow       1000.0\n",
              "London        300.0\n",
              "Barcelona       NaN\n",
              "dtype: float64"
            ]
          },
          "metadata": {
            "tags": []
          },
          "execution_count": 4
        }
      ]
    },
    {
      "cell_type": "code",
      "metadata": {
        "id": "pPT53ZF6OwYD",
        "colab_type": "code",
        "outputId": "67541905-d2fb-4d17-cf21-58a9d8302418",
        "colab": {
          "base_uri": "https://localhost:8080/",
          "height": 69
        }
      },
      "source": [
        "cities[['Moscow','London']]"
      ],
      "execution_count": 5,
      "outputs": [
        {
          "output_type": "execute_result",
          "data": {
            "text/plain": [
              "Moscow    1000.0\n",
              "London     300.0\n",
              "dtype: float64"
            ]
          },
          "metadata": {
            "tags": []
          },
          "execution_count": 5
        }
      ]
    },
    {
      "cell_type": "code",
      "metadata": {
        "id": "up_ZThYtO1f1",
        "colab_type": "code",
        "outputId": "9e412e9b-e808-4733-8a78-7988b77111b3",
        "colab": {
          "base_uri": "https://localhost:8080/",
          "height": 52
        }
      },
      "source": [
        "cities[ cities < 1000]"
      ],
      "execution_count": 6,
      "outputs": [
        {
          "output_type": "execute_result",
          "data": {
            "text/plain": [
              "London    300.0\n",
              "dtype: float64"
            ]
          },
          "metadata": {
            "tags": []
          },
          "execution_count": 6
        }
      ]
    },
    {
      "cell_type": "code",
      "metadata": {
        "id": "sfx_Fv-fPXl8",
        "colab_type": "code",
        "colab": {}
      },
      "source": [
        "cities[ cities < 1000] = 3"
      ],
      "execution_count": 0,
      "outputs": []
    },
    {
      "cell_type": "code",
      "metadata": {
        "id": "JVxsXFiuPiRz",
        "colab_type": "code",
        "outputId": "003071fb-b32a-434e-e1ef-8c733843d354",
        "colab": {
          "base_uri": "https://localhost:8080/",
          "height": 87
        }
      },
      "source": [
        "cities"
      ],
      "execution_count": 8,
      "outputs": [
        {
          "output_type": "execute_result",
          "data": {
            "text/plain": [
              "Moscow       1000.0\n",
              "London          3.0\n",
              "Barcelona       NaN\n",
              "dtype: float64"
            ]
          },
          "metadata": {
            "tags": []
          },
          "execution_count": 8
        }
      ]
    },
    {
      "cell_type": "code",
      "metadata": {
        "id": "o3Vurc7nPkHL",
        "colab_type": "code",
        "outputId": "cc6c89af-82a6-42ed-ea65-c2d6312a1d71",
        "colab": {
          "base_uri": "https://localhost:8080/",
          "height": 87
        }
      },
      "source": [
        "cities*3"
      ],
      "execution_count": 9,
      "outputs": [
        {
          "output_type": "execute_result",
          "data": {
            "text/plain": [
              "Moscow       3000.0\n",
              "London          9.0\n",
              "Barcelona       NaN\n",
              "dtype: float64"
            ]
          },
          "metadata": {
            "tags": []
          },
          "execution_count": 9
        }
      ]
    },
    {
      "cell_type": "code",
      "metadata": {
        "id": "RvPukLEyPnyE",
        "colab_type": "code",
        "outputId": "fdac7ce1-10c4-4e18-9c1d-263d38e8f4e6",
        "colab": {
          "base_uri": "https://localhost:8080/",
          "height": 52
        }
      },
      "source": [
        "cities[ cities.isnull()]"
      ],
      "execution_count": 10,
      "outputs": [
        {
          "output_type": "execute_result",
          "data": {
            "text/plain": [
              "Barcelona   NaN\n",
              "dtype: float64"
            ]
          },
          "metadata": {
            "tags": []
          },
          "execution_count": 10
        }
      ]
    },
    {
      "cell_type": "markdown",
      "metadata": {
        "id": "TFEqpr5uP1lv",
        "colab_type": "text"
      },
      "source": [
        "## 4.3 Объект pandas.DataFrame"
      ]
    },
    {
      "cell_type": "code",
      "metadata": {
        "id": "FQ8tJfcmPuBG",
        "colab_type": "code",
        "colab": {}
      },
      "source": [
        "import pandas as pd\n",
        "import numpy as np"
      ],
      "execution_count": 0,
      "outputs": []
    },
    {
      "cell_type": "code",
      "metadata": {
        "id": "wpU-IHHQQ6UO",
        "colab_type": "code",
        "outputId": "4c8df5e0-0c3e-4731-be49-ba9f75460129",
        "colab": {
          "base_uri": "https://localhost:8080/",
          "height": 208
        }
      },
      "source": [
        "! wget https://s3.amazonaws.com/tripdata/201306-citibike-tripdata.zip -O citibike.zip"
      ],
      "execution_count": 12,
      "outputs": [
        {
          "output_type": "stream",
          "text": [
            "--2019-09-06 14:45:28--  https://s3.amazonaws.com/tripdata/201306-citibike-tripdata.zip\n",
            "Resolving s3.amazonaws.com (s3.amazonaws.com)... 52.216.207.213\n",
            "Connecting to s3.amazonaws.com (s3.amazonaws.com)|52.216.207.213|:443... connected.\n",
            "HTTP request sent, awaiting response... 200 OK\n",
            "Length: 16785103 (16M) [application/zip]\n",
            "Saving to: ‘citibike.zip’\n",
            "\n",
            "\rcitibike.zip          0%[                    ]       0  --.-KB/s               \rcitibike.zip        100%[===================>]  16.01M  98.9MB/s    in 0.2s    \n",
            "\n",
            "2019-09-06 14:45:29 (98.9 MB/s) - ‘citibike.zip’ saved [16785103/16785103]\n",
            "\n"
          ],
          "name": "stdout"
        }
      ]
    },
    {
      "cell_type": "code",
      "metadata": {
        "id": "t7oGHndKS5Qs",
        "colab_type": "code",
        "outputId": "3f141ac7-acba-498e-ad0c-d97228bc3945",
        "colab": {
          "base_uri": "https://localhost:8080/",
          "height": 87
        }
      },
      "source": [
        "! unzip citibike.zip"
      ],
      "execution_count": 13,
      "outputs": [
        {
          "output_type": "stream",
          "text": [
            "Archive:  citibike.zip\n",
            "  inflating: 201306-citibike-tripdata.csv  \n",
            "   creating: __MACOSX/\n",
            "  inflating: __MACOSX/._201306-citibike-tripdata.csv  \n"
          ],
          "name": "stdout"
        }
      ]
    },
    {
      "cell_type": "code",
      "metadata": {
        "id": "f_w-HxwNTU21",
        "colab_type": "code",
        "colab": {}
      },
      "source": [
        "df = pd.read_csv('201306-citibike-tripdata.csv')"
      ],
      "execution_count": 0,
      "outputs": []
    },
    {
      "cell_type": "code",
      "metadata": {
        "id": "e3-fIbD6Tm0z",
        "colab_type": "code",
        "outputId": "c291b30d-91eb-468a-b850-a483e3eb2b02",
        "colab": {
          "base_uri": "https://localhost:8080/",
          "height": 35
        }
      },
      "source": [
        "df.shape"
      ],
      "execution_count": 15,
      "outputs": [
        {
          "output_type": "execute_result",
          "data": {
            "text/plain": [
              "(577703, 15)"
            ]
          },
          "metadata": {
            "tags": []
          },
          "execution_count": 15
        }
      ]
    },
    {
      "cell_type": "code",
      "metadata": {
        "id": "1gKCrmBjTtEk",
        "colab_type": "code",
        "outputId": "4f3aa473-e9a0-442c-80aa-0041a7bdee72",
        "colab": {
          "base_uri": "https://localhost:8080/",
          "height": 317
        }
      },
      "source": [
        "df.head(3)"
      ],
      "execution_count": 16,
      "outputs": [
        {
          "output_type": "execute_result",
          "data": {
            "text/html": [
              "<div>\n",
              "<style scoped>\n",
              "    .dataframe tbody tr th:only-of-type {\n",
              "        vertical-align: middle;\n",
              "    }\n",
              "\n",
              "    .dataframe tbody tr th {\n",
              "        vertical-align: top;\n",
              "    }\n",
              "\n",
              "    .dataframe thead th {\n",
              "        text-align: right;\n",
              "    }\n",
              "</style>\n",
              "<table border=\"1\" class=\"dataframe\">\n",
              "  <thead>\n",
              "    <tr style=\"text-align: right;\">\n",
              "      <th></th>\n",
              "      <th>tripduration</th>\n",
              "      <th>starttime</th>\n",
              "      <th>stoptime</th>\n",
              "      <th>start station id</th>\n",
              "      <th>start station name</th>\n",
              "      <th>start station latitude</th>\n",
              "      <th>start station longitude</th>\n",
              "      <th>end station id</th>\n",
              "      <th>end station name</th>\n",
              "      <th>end station latitude</th>\n",
              "      <th>end station longitude</th>\n",
              "      <th>bikeid</th>\n",
              "      <th>usertype</th>\n",
              "      <th>birth year</th>\n",
              "      <th>gender</th>\n",
              "    </tr>\n",
              "  </thead>\n",
              "  <tbody>\n",
              "    <tr>\n",
              "      <th>0</th>\n",
              "      <td>695</td>\n",
              "      <td>2013-06-01 00:00:01</td>\n",
              "      <td>2013-06-01 00:11:36</td>\n",
              "      <td>444</td>\n",
              "      <td>Broadway &amp; W 24 St</td>\n",
              "      <td>40.742354</td>\n",
              "      <td>-73.989151</td>\n",
              "      <td>434.0</td>\n",
              "      <td>9 Ave &amp; W 18 St</td>\n",
              "      <td>40.743174</td>\n",
              "      <td>-74.003664</td>\n",
              "      <td>19678</td>\n",
              "      <td>Subscriber</td>\n",
              "      <td>1983.0</td>\n",
              "      <td>1</td>\n",
              "    </tr>\n",
              "    <tr>\n",
              "      <th>1</th>\n",
              "      <td>693</td>\n",
              "      <td>2013-06-01 00:00:08</td>\n",
              "      <td>2013-06-01 00:11:41</td>\n",
              "      <td>444</td>\n",
              "      <td>Broadway &amp; W 24 St</td>\n",
              "      <td>40.742354</td>\n",
              "      <td>-73.989151</td>\n",
              "      <td>434.0</td>\n",
              "      <td>9 Ave &amp; W 18 St</td>\n",
              "      <td>40.743174</td>\n",
              "      <td>-74.003664</td>\n",
              "      <td>16649</td>\n",
              "      <td>Subscriber</td>\n",
              "      <td>1984.0</td>\n",
              "      <td>1</td>\n",
              "    </tr>\n",
              "    <tr>\n",
              "      <th>2</th>\n",
              "      <td>2059</td>\n",
              "      <td>2013-06-01 00:00:44</td>\n",
              "      <td>2013-06-01 00:35:03</td>\n",
              "      <td>406</td>\n",
              "      <td>Hicks St &amp; Montague St</td>\n",
              "      <td>40.695128</td>\n",
              "      <td>-73.995951</td>\n",
              "      <td>406.0</td>\n",
              "      <td>Hicks St &amp; Montague St</td>\n",
              "      <td>40.695128</td>\n",
              "      <td>-73.995951</td>\n",
              "      <td>19599</td>\n",
              "      <td>Customer</td>\n",
              "      <td>NaN</td>\n",
              "      <td>0</td>\n",
              "    </tr>\n",
              "  </tbody>\n",
              "</table>\n",
              "</div>"
            ],
            "text/plain": [
              "   tripduration            starttime  ... birth year  gender\n",
              "0           695  2013-06-01 00:00:01  ...     1983.0       1\n",
              "1           693  2013-06-01 00:00:08  ...     1984.0       1\n",
              "2          2059  2013-06-01 00:00:44  ...        NaN       0\n",
              "\n",
              "[3 rows x 15 columns]"
            ]
          },
          "metadata": {
            "tags": []
          },
          "execution_count": 16
        }
      ]
    },
    {
      "cell_type": "code",
      "metadata": {
        "id": "psWnQ-pITxqz",
        "colab_type": "code",
        "outputId": "9968d084-0d34-4c13-c088-1f1131af6a8c",
        "colab": {
          "base_uri": "https://localhost:8080/",
          "height": 791
        }
      },
      "source": [
        "df.tail(10)"
      ],
      "execution_count": 17,
      "outputs": [
        {
          "output_type": "execute_result",
          "data": {
            "text/html": [
              "<div>\n",
              "<style scoped>\n",
              "    .dataframe tbody tr th:only-of-type {\n",
              "        vertical-align: middle;\n",
              "    }\n",
              "\n",
              "    .dataframe tbody tr th {\n",
              "        vertical-align: top;\n",
              "    }\n",
              "\n",
              "    .dataframe thead th {\n",
              "        text-align: right;\n",
              "    }\n",
              "</style>\n",
              "<table border=\"1\" class=\"dataframe\">\n",
              "  <thead>\n",
              "    <tr style=\"text-align: right;\">\n",
              "      <th></th>\n",
              "      <th>tripduration</th>\n",
              "      <th>starttime</th>\n",
              "      <th>stoptime</th>\n",
              "      <th>start station id</th>\n",
              "      <th>start station name</th>\n",
              "      <th>start station latitude</th>\n",
              "      <th>start station longitude</th>\n",
              "      <th>end station id</th>\n",
              "      <th>end station name</th>\n",
              "      <th>end station latitude</th>\n",
              "      <th>end station longitude</th>\n",
              "      <th>bikeid</th>\n",
              "      <th>usertype</th>\n",
              "      <th>birth year</th>\n",
              "      <th>gender</th>\n",
              "    </tr>\n",
              "  </thead>\n",
              "  <tbody>\n",
              "    <tr>\n",
              "      <th>577693</th>\n",
              "      <td>1059</td>\n",
              "      <td>2013-06-30 23:58:41</td>\n",
              "      <td>2013-07-01 00:16:20</td>\n",
              "      <td>477</td>\n",
              "      <td>W 41 St &amp; 8 Ave</td>\n",
              "      <td>40.756405</td>\n",
              "      <td>-73.990026</td>\n",
              "      <td>477.0</td>\n",
              "      <td>W 41 St &amp; 8 Ave</td>\n",
              "      <td>40.756405</td>\n",
              "      <td>-73.990026</td>\n",
              "      <td>16416</td>\n",
              "      <td>Customer</td>\n",
              "      <td>NaN</td>\n",
              "      <td>0</td>\n",
              "    </tr>\n",
              "    <tr>\n",
              "      <th>577694</th>\n",
              "      <td>1628</td>\n",
              "      <td>2013-06-30 23:58:46</td>\n",
              "      <td>2013-07-01 00:25:54</td>\n",
              "      <td>470</td>\n",
              "      <td>W 20 St &amp; 8 Ave</td>\n",
              "      <td>40.743453</td>\n",
              "      <td>-74.000040</td>\n",
              "      <td>268.0</td>\n",
              "      <td>Howard St &amp; Centre St</td>\n",
              "      <td>40.719105</td>\n",
              "      <td>-73.999733</td>\n",
              "      <td>15393</td>\n",
              "      <td>Customer</td>\n",
              "      <td>NaN</td>\n",
              "      <td>0</td>\n",
              "    </tr>\n",
              "    <tr>\n",
              "      <th>577695</th>\n",
              "      <td>81406</td>\n",
              "      <td>2013-06-30 23:58:45</td>\n",
              "      <td>2013-07-01 22:35:31</td>\n",
              "      <td>477</td>\n",
              "      <td>W 41 St &amp; 8 Ave</td>\n",
              "      <td>40.756405</td>\n",
              "      <td>-73.990026</td>\n",
              "      <td>116.0</td>\n",
              "      <td>W 17 St &amp; 8 Ave</td>\n",
              "      <td>40.741776</td>\n",
              "      <td>-74.001497</td>\n",
              "      <td>18726</td>\n",
              "      <td>Customer</td>\n",
              "      <td>NaN</td>\n",
              "      <td>0</td>\n",
              "    </tr>\n",
              "    <tr>\n",
              "      <th>577696</th>\n",
              "      <td>1397</td>\n",
              "      <td>2013-06-30 23:59:16</td>\n",
              "      <td>2013-07-01 00:22:33</td>\n",
              "      <td>470</td>\n",
              "      <td>W 20 St &amp; 8 Ave</td>\n",
              "      <td>40.743453</td>\n",
              "      <td>-74.000040</td>\n",
              "      <td>268.0</td>\n",
              "      <td>Howard St &amp; Centre St</td>\n",
              "      <td>40.719105</td>\n",
              "      <td>-73.999733</td>\n",
              "      <td>15487</td>\n",
              "      <td>Customer</td>\n",
              "      <td>NaN</td>\n",
              "      <td>0</td>\n",
              "    </tr>\n",
              "    <tr>\n",
              "      <th>577697</th>\n",
              "      <td>81724</td>\n",
              "      <td>2013-06-30 23:59:18</td>\n",
              "      <td>2013-07-01 22:41:22</td>\n",
              "      <td>477</td>\n",
              "      <td>W 41 St &amp; 8 Ave</td>\n",
              "      <td>40.756405</td>\n",
              "      <td>-73.990026</td>\n",
              "      <td>116.0</td>\n",
              "      <td>W 17 St &amp; 8 Ave</td>\n",
              "      <td>40.741776</td>\n",
              "      <td>-74.001497</td>\n",
              "      <td>14718</td>\n",
              "      <td>Customer</td>\n",
              "      <td>NaN</td>\n",
              "      <td>0</td>\n",
              "    </tr>\n",
              "    <tr>\n",
              "      <th>577698</th>\n",
              "      <td>925</td>\n",
              "      <td>2013-06-30 23:59:27</td>\n",
              "      <td>2013-07-01 00:14:52</td>\n",
              "      <td>509</td>\n",
              "      <td>9 Ave &amp; W 22 St</td>\n",
              "      <td>40.745497</td>\n",
              "      <td>-74.001971</td>\n",
              "      <td>462.0</td>\n",
              "      <td>W 22 St &amp; 10 Ave</td>\n",
              "      <td>40.746920</td>\n",
              "      <td>-74.004519</td>\n",
              "      <td>15250</td>\n",
              "      <td>Subscriber</td>\n",
              "      <td>1964.0</td>\n",
              "      <td>1</td>\n",
              "    </tr>\n",
              "    <tr>\n",
              "      <th>577699</th>\n",
              "      <td>279</td>\n",
              "      <td>2013-06-30 23:59:36</td>\n",
              "      <td>2013-07-01 00:04:15</td>\n",
              "      <td>116</td>\n",
              "      <td>W 17 St &amp; 8 Ave</td>\n",
              "      <td>40.741776</td>\n",
              "      <td>-74.001497</td>\n",
              "      <td>494.0</td>\n",
              "      <td>W 26 St &amp; 8 Ave</td>\n",
              "      <td>40.747348</td>\n",
              "      <td>-73.997236</td>\n",
              "      <td>19411</td>\n",
              "      <td>Customer</td>\n",
              "      <td>NaN</td>\n",
              "      <td>0</td>\n",
              "    </tr>\n",
              "    <tr>\n",
              "      <th>577700</th>\n",
              "      <td>161</td>\n",
              "      <td>2013-06-30 23:59:33</td>\n",
              "      <td>2013-07-01 00:02:14</td>\n",
              "      <td>443</td>\n",
              "      <td>Bedford Ave &amp; S 9 St</td>\n",
              "      <td>40.708531</td>\n",
              "      <td>-73.964090</td>\n",
              "      <td>282.0</td>\n",
              "      <td>Kent Ave &amp; S 11 St</td>\n",
              "      <td>40.707645</td>\n",
              "      <td>-73.968415</td>\n",
              "      <td>18910</td>\n",
              "      <td>Subscriber</td>\n",
              "      <td>1972.0</td>\n",
              "      <td>2</td>\n",
              "    </tr>\n",
              "    <tr>\n",
              "      <th>577701</th>\n",
              "      <td>909</td>\n",
              "      <td>2013-06-30 23:59:47</td>\n",
              "      <td>2013-07-01 00:14:56</td>\n",
              "      <td>509</td>\n",
              "      <td>9 Ave &amp; W 22 St</td>\n",
              "      <td>40.745497</td>\n",
              "      <td>-74.001971</td>\n",
              "      <td>462.0</td>\n",
              "      <td>W 22 St &amp; 10 Ave</td>\n",
              "      <td>40.746920</td>\n",
              "      <td>-74.004519</td>\n",
              "      <td>16108</td>\n",
              "      <td>Customer</td>\n",
              "      <td>NaN</td>\n",
              "      <td>0</td>\n",
              "    </tr>\n",
              "    <tr>\n",
              "      <th>577702</th>\n",
              "      <td>634</td>\n",
              "      <td>2013-07-01 00:00:00</td>\n",
              "      <td>2013-07-01 00:10:34</td>\n",
              "      <td>164</td>\n",
              "      <td>E 47 St &amp; 2 Ave</td>\n",
              "      <td>40.753231</td>\n",
              "      <td>-73.970325</td>\n",
              "      <td>504.0</td>\n",
              "      <td>1 Ave &amp; E 16 St</td>\n",
              "      <td>40.732219</td>\n",
              "      <td>-73.981656</td>\n",
              "      <td>16950</td>\n",
              "      <td>Customer</td>\n",
              "      <td>NaN</td>\n",
              "      <td>0</td>\n",
              "    </tr>\n",
              "  </tbody>\n",
              "</table>\n",
              "</div>"
            ],
            "text/plain": [
              "        tripduration            starttime  ... birth year  gender\n",
              "577693          1059  2013-06-30 23:58:41  ...        NaN       0\n",
              "577694          1628  2013-06-30 23:58:46  ...        NaN       0\n",
              "577695         81406  2013-06-30 23:58:45  ...        NaN       0\n",
              "577696          1397  2013-06-30 23:59:16  ...        NaN       0\n",
              "577697         81724  2013-06-30 23:59:18  ...        NaN       0\n",
              "577698           925  2013-06-30 23:59:27  ...     1964.0       1\n",
              "577699           279  2013-06-30 23:59:36  ...        NaN       0\n",
              "577700           161  2013-06-30 23:59:33  ...     1972.0       2\n",
              "577701           909  2013-06-30 23:59:47  ...        NaN       0\n",
              "577702           634  2013-07-01 00:00:00  ...        NaN       0\n",
              "\n",
              "[10 rows x 15 columns]"
            ]
          },
          "metadata": {
            "tags": []
          },
          "execution_count": 17
        }
      ]
    },
    {
      "cell_type": "code",
      "metadata": {
        "id": "AzqFRE2WT4sa",
        "colab_type": "code",
        "outputId": "a2ea04a4-ac1c-48e9-fffd-9bb611b68556",
        "colab": {
          "base_uri": "https://localhost:8080/",
          "height": 121
        }
      },
      "source": [
        "df.columns"
      ],
      "execution_count": 18,
      "outputs": [
        {
          "output_type": "execute_result",
          "data": {
            "text/plain": [
              "Index(['tripduration', 'starttime', 'stoptime', 'start station id',\n",
              "       'start station name', 'start station latitude',\n",
              "       'start station longitude', 'end station id', 'end station name',\n",
              "       'end station latitude', 'end station longitude', 'bikeid', 'usertype',\n",
              "       'birth year', 'gender'],\n",
              "      dtype='object')"
            ]
          },
          "metadata": {
            "tags": []
          },
          "execution_count": 18
        }
      ]
    },
    {
      "cell_type": "code",
      "metadata": {
        "id": "vPD_rSn2T7_t",
        "colab_type": "code",
        "outputId": "72a893fa-b4df-4b8b-8b5d-b769067d5980",
        "colab": {
          "base_uri": "https://localhost:8080/",
          "height": 295
        }
      },
      "source": [
        "df.dtypes"
      ],
      "execution_count": 19,
      "outputs": [
        {
          "output_type": "execute_result",
          "data": {
            "text/plain": [
              "tripduration                 int64\n",
              "starttime                   object\n",
              "stoptime                    object\n",
              "start station id             int64\n",
              "start station name          object\n",
              "start station latitude     float64\n",
              "start station longitude    float64\n",
              "end station id             float64\n",
              "end station name            object\n",
              "end station latitude       float64\n",
              "end station longitude      float64\n",
              "bikeid                       int64\n",
              "usertype                    object\n",
              "birth year                 float64\n",
              "gender                       int64\n",
              "dtype: object"
            ]
          },
          "metadata": {
            "tags": []
          },
          "execution_count": 19
        }
      ]
    },
    {
      "cell_type": "code",
      "metadata": {
        "id": "VA_H8w2uUCgq",
        "colab_type": "code",
        "outputId": "4b0ce049-8472-49f9-9ac5-c5f6b419770b",
        "colab": {
          "base_uri": "https://localhost:8080/",
          "height": 202
        }
      },
      "source": [
        "df[['tripduration','bikeid']].head()"
      ],
      "execution_count": 20,
      "outputs": [
        {
          "output_type": "execute_result",
          "data": {
            "text/html": [
              "<div>\n",
              "<style scoped>\n",
              "    .dataframe tbody tr th:only-of-type {\n",
              "        vertical-align: middle;\n",
              "    }\n",
              "\n",
              "    .dataframe tbody tr th {\n",
              "        vertical-align: top;\n",
              "    }\n",
              "\n",
              "    .dataframe thead th {\n",
              "        text-align: right;\n",
              "    }\n",
              "</style>\n",
              "<table border=\"1\" class=\"dataframe\">\n",
              "  <thead>\n",
              "    <tr style=\"text-align: right;\">\n",
              "      <th></th>\n",
              "      <th>tripduration</th>\n",
              "      <th>bikeid</th>\n",
              "    </tr>\n",
              "  </thead>\n",
              "  <tbody>\n",
              "    <tr>\n",
              "      <th>0</th>\n",
              "      <td>695</td>\n",
              "      <td>19678</td>\n",
              "    </tr>\n",
              "    <tr>\n",
              "      <th>1</th>\n",
              "      <td>693</td>\n",
              "      <td>16649</td>\n",
              "    </tr>\n",
              "    <tr>\n",
              "      <th>2</th>\n",
              "      <td>2059</td>\n",
              "      <td>19599</td>\n",
              "    </tr>\n",
              "    <tr>\n",
              "      <th>3</th>\n",
              "      <td>123</td>\n",
              "      <td>16352</td>\n",
              "    </tr>\n",
              "    <tr>\n",
              "      <th>4</th>\n",
              "      <td>1521</td>\n",
              "      <td>15567</td>\n",
              "    </tr>\n",
              "  </tbody>\n",
              "</table>\n",
              "</div>"
            ],
            "text/plain": [
              "   tripduration  bikeid\n",
              "0           695   19678\n",
              "1           693   16649\n",
              "2          2059   19599\n",
              "3           123   16352\n",
              "4          1521   15567"
            ]
          },
          "metadata": {
            "tags": []
          },
          "execution_count": 20
        }
      ]
    },
    {
      "cell_type": "code",
      "metadata": {
        "id": "hU33iFlYUPvZ",
        "colab_type": "code",
        "outputId": "f9cfe6f7-06cb-42e9-b77d-c3201a00352d",
        "colab": {
          "base_uri": "https://localhost:8080/",
          "height": 295
        }
      },
      "source": [
        "df.iloc[-1]"
      ],
      "execution_count": 21,
      "outputs": [
        {
          "output_type": "execute_result",
          "data": {
            "text/plain": [
              "tripduration                               634\n",
              "starttime                  2013-07-01 00:00:00\n",
              "stoptime                   2013-07-01 00:10:34\n",
              "start station id                           164\n",
              "start station name             E 47 St & 2 Ave\n",
              "start station latitude                 40.7532\n",
              "start station longitude               -73.9703\n",
              "end station id                             504\n",
              "end station name               1 Ave & E 16 St\n",
              "end station latitude                   40.7322\n",
              "end station longitude                 -73.9817\n",
              "bikeid                                   16950\n",
              "usertype                              Customer\n",
              "birth year                                 NaN\n",
              "gender                                       0\n",
              "Name: 577702, dtype: object"
            ]
          },
          "metadata": {
            "tags": []
          },
          "execution_count": 21
        }
      ]
    },
    {
      "cell_type": "code",
      "metadata": {
        "id": "V26b-5bYUctu",
        "colab_type": "code",
        "outputId": "adc13589-2392-4428-8bb4-5b05937983c2",
        "colab": {
          "base_uri": "https://localhost:8080/",
          "height": 35
        }
      },
      "source": [
        "df.iloc[-1,-3]"
      ],
      "execution_count": 22,
      "outputs": [
        {
          "output_type": "execute_result",
          "data": {
            "text/plain": [
              "'Customer'"
            ]
          },
          "metadata": {
            "tags": []
          },
          "execution_count": 22
        }
      ]
    },
    {
      "cell_type": "code",
      "metadata": {
        "id": "pxWHRk0BUxSq",
        "colab_type": "code",
        "outputId": "ced9d947-e2fe-445f-81d6-3c0dce3fd2e3",
        "colab": {
          "base_uri": "https://localhost:8080/",
          "height": 141
        }
      },
      "source": [
        "df.iloc[:3,:4]"
      ],
      "execution_count": 23,
      "outputs": [
        {
          "output_type": "execute_result",
          "data": {
            "text/html": [
              "<div>\n",
              "<style scoped>\n",
              "    .dataframe tbody tr th:only-of-type {\n",
              "        vertical-align: middle;\n",
              "    }\n",
              "\n",
              "    .dataframe tbody tr th {\n",
              "        vertical-align: top;\n",
              "    }\n",
              "\n",
              "    .dataframe thead th {\n",
              "        text-align: right;\n",
              "    }\n",
              "</style>\n",
              "<table border=\"1\" class=\"dataframe\">\n",
              "  <thead>\n",
              "    <tr style=\"text-align: right;\">\n",
              "      <th></th>\n",
              "      <th>tripduration</th>\n",
              "      <th>starttime</th>\n",
              "      <th>stoptime</th>\n",
              "      <th>start station id</th>\n",
              "    </tr>\n",
              "  </thead>\n",
              "  <tbody>\n",
              "    <tr>\n",
              "      <th>0</th>\n",
              "      <td>695</td>\n",
              "      <td>2013-06-01 00:00:01</td>\n",
              "      <td>2013-06-01 00:11:36</td>\n",
              "      <td>444</td>\n",
              "    </tr>\n",
              "    <tr>\n",
              "      <th>1</th>\n",
              "      <td>693</td>\n",
              "      <td>2013-06-01 00:00:08</td>\n",
              "      <td>2013-06-01 00:11:41</td>\n",
              "      <td>444</td>\n",
              "    </tr>\n",
              "    <tr>\n",
              "      <th>2</th>\n",
              "      <td>2059</td>\n",
              "      <td>2013-06-01 00:00:44</td>\n",
              "      <td>2013-06-01 00:35:03</td>\n",
              "      <td>406</td>\n",
              "    </tr>\n",
              "  </tbody>\n",
              "</table>\n",
              "</div>"
            ],
            "text/plain": [
              "   tripduration            starttime             stoptime  start station id\n",
              "0           695  2013-06-01 00:00:01  2013-06-01 00:11:36               444\n",
              "1           693  2013-06-01 00:00:08  2013-06-01 00:11:41               444\n",
              "2          2059  2013-06-01 00:00:44  2013-06-01 00:35:03               406"
            ]
          },
          "metadata": {
            "tags": []
          },
          "execution_count": 23
        }
      ]
    },
    {
      "cell_type": "code",
      "metadata": {
        "id": "wQ1ywb_1VAAo",
        "colab_type": "code",
        "outputId": "3c4036f5-fa01-466c-d982-815d95057b88",
        "colab": {
          "base_uri": "https://localhost:8080/",
          "height": 104
        }
      },
      "source": [
        "df.loc[:3,'gender']"
      ],
      "execution_count": 24,
      "outputs": [
        {
          "output_type": "execute_result",
          "data": {
            "text/plain": [
              "0    1\n",
              "1    1\n",
              "2    0\n",
              "3    1\n",
              "Name: gender, dtype: int64"
            ]
          },
          "metadata": {
            "tags": []
          },
          "execution_count": 24
        }
      ]
    },
    {
      "cell_type": "code",
      "metadata": {
        "id": "tb7Nzv5-VqEZ",
        "colab_type": "code",
        "colab": {
          "base_uri": "https://localhost:8080/",
          "height": 35
        },
        "outputId": "c6d4b01b-ae82-4dcd-87c2-8c3ed9d9be05"
      },
      "source": [
        "df['gender'].unique()"
      ],
      "execution_count": 26,
      "outputs": [
        {
          "output_type": "execute_result",
          "data": {
            "text/plain": [
              "array([1, 0, 2])"
            ]
          },
          "metadata": {
            "tags": []
          },
          "execution_count": 26
        }
      ]
    },
    {
      "cell_type": "code",
      "metadata": {
        "id": "8KJa0AW5CwyH",
        "colab_type": "code",
        "colab": {
          "base_uri": "https://localhost:8080/",
          "height": 171
        },
        "outputId": "dad09f36-46cf-4365-d7ea-eb80d9bed1b4"
      },
      "source": [
        "df.describe(include=[np.object])"
      ],
      "execution_count": 28,
      "outputs": [
        {
          "output_type": "execute_result",
          "data": {
            "text/html": [
              "<div>\n",
              "<style scoped>\n",
              "    .dataframe tbody tr th:only-of-type {\n",
              "        vertical-align: middle;\n",
              "    }\n",
              "\n",
              "    .dataframe tbody tr th {\n",
              "        vertical-align: top;\n",
              "    }\n",
              "\n",
              "    .dataframe thead th {\n",
              "        text-align: right;\n",
              "    }\n",
              "</style>\n",
              "<table border=\"1\" class=\"dataframe\">\n",
              "  <thead>\n",
              "    <tr style=\"text-align: right;\">\n",
              "      <th></th>\n",
              "      <th>starttime</th>\n",
              "      <th>stoptime</th>\n",
              "      <th>start station name</th>\n",
              "      <th>end station name</th>\n",
              "      <th>usertype</th>\n",
              "    </tr>\n",
              "  </thead>\n",
              "  <tbody>\n",
              "    <tr>\n",
              "      <th>count</th>\n",
              "      <td>577703</td>\n",
              "      <td>577703</td>\n",
              "      <td>577703</td>\n",
              "      <td>559644</td>\n",
              "      <td>577703</td>\n",
              "    </tr>\n",
              "    <tr>\n",
              "      <th>unique</th>\n",
              "      <td>475295</td>\n",
              "      <td>475805</td>\n",
              "      <td>337</td>\n",
              "      <td>337</td>\n",
              "      <td>2</td>\n",
              "    </tr>\n",
              "    <tr>\n",
              "      <th>top</th>\n",
              "      <td>2013-06-27 17:13:56</td>\n",
              "      <td>2013-06-26 18:44:55</td>\n",
              "      <td>W 20 St &amp; 11 Ave</td>\n",
              "      <td>W 20 St &amp; 11 Ave</td>\n",
              "      <td>Subscriber</td>\n",
              "    </tr>\n",
              "    <tr>\n",
              "      <th>freq</th>\n",
              "      <td>7</td>\n",
              "      <td>7</td>\n",
              "      <td>5983</td>\n",
              "      <td>5742</td>\n",
              "      <td>337384</td>\n",
              "    </tr>\n",
              "  </tbody>\n",
              "</table>\n",
              "</div>"
            ],
            "text/plain": [
              "                  starttime             stoptime  ...  end station name    usertype\n",
              "count                577703               577703  ...            559644      577703\n",
              "unique               475295               475805  ...               337           2\n",
              "top     2013-06-27 17:13:56  2013-06-26 18:44:55  ...  W 20 St & 11 Ave  Subscriber\n",
              "freq                      7                    7  ...              5742      337384\n",
              "\n",
              "[4 rows x 5 columns]"
            ]
          },
          "metadata": {
            "tags": []
          },
          "execution_count": 28
        }
      ]
    },
    {
      "cell_type": "code",
      "metadata": {
        "id": "-FaMqYIXC8Qs",
        "colab_type": "code",
        "colab": {
          "base_uri": "https://localhost:8080/",
          "height": 69
        },
        "outputId": "409badd5-4058-4ffd-dc2e-b7d0a95de696"
      },
      "source": [
        "df['usertype'].value_counts(normalize=True)"
      ],
      "execution_count": 30,
      "outputs": [
        {
          "output_type": "execute_result",
          "data": {
            "text/plain": [
              "Subscriber    0.584009\n",
              "Customer      0.415991\n",
              "Name: usertype, dtype: float64"
            ]
          },
          "metadata": {
            "tags": []
          },
          "execution_count": 30
        }
      ]
    },
    {
      "cell_type": "code",
      "metadata": {
        "id": "govQvIkZE2l_",
        "colab_type": "code",
        "colab": {
          "base_uri": "https://localhost:8080/",
          "height": 459
        },
        "outputId": "cd163b63-32fc-436c-c9de-ec36fa03366c"
      },
      "source": [
        "df.corr()"
      ],
      "execution_count": 31,
      "outputs": [
        {
          "output_type": "execute_result",
          "data": {
            "text/html": [
              "<div>\n",
              "<style scoped>\n",
              "    .dataframe tbody tr th:only-of-type {\n",
              "        vertical-align: middle;\n",
              "    }\n",
              "\n",
              "    .dataframe tbody tr th {\n",
              "        vertical-align: top;\n",
              "    }\n",
              "\n",
              "    .dataframe thead th {\n",
              "        text-align: right;\n",
              "    }\n",
              "</style>\n",
              "<table border=\"1\" class=\"dataframe\">\n",
              "  <thead>\n",
              "    <tr style=\"text-align: right;\">\n",
              "      <th></th>\n",
              "      <th>tripduration</th>\n",
              "      <th>start station id</th>\n",
              "      <th>start station latitude</th>\n",
              "      <th>start station longitude</th>\n",
              "      <th>end station id</th>\n",
              "      <th>end station latitude</th>\n",
              "      <th>end station longitude</th>\n",
              "      <th>bikeid</th>\n",
              "      <th>birth year</th>\n",
              "      <th>gender</th>\n",
              "    </tr>\n",
              "  </thead>\n",
              "  <tbody>\n",
              "    <tr>\n",
              "      <th>tripduration</th>\n",
              "      <td>1.000000</td>\n",
              "      <td>0.005154</td>\n",
              "      <td>-0.003108</td>\n",
              "      <td>0.000777</td>\n",
              "      <td>0.006232</td>\n",
              "      <td>0.000624</td>\n",
              "      <td>0.007520</td>\n",
              "      <td>-0.000511</td>\n",
              "      <td>-0.009432</td>\n",
              "      <td>-0.028804</td>\n",
              "    </tr>\n",
              "    <tr>\n",
              "      <th>start station id</th>\n",
              "      <td>0.005154</td>\n",
              "      <td>1.000000</td>\n",
              "      <td>0.153313</td>\n",
              "      <td>0.163074</td>\n",
              "      <td>0.092344</td>\n",
              "      <td>0.070366</td>\n",
              "      <td>0.068674</td>\n",
              "      <td>-0.001722</td>\n",
              "      <td>0.000443</td>\n",
              "      <td>-0.032502</td>\n",
              "    </tr>\n",
              "    <tr>\n",
              "      <th>start station latitude</th>\n",
              "      <td>-0.003108</td>\n",
              "      <td>0.153313</td>\n",
              "      <td>1.000000</td>\n",
              "      <td>0.171693</td>\n",
              "      <td>0.069046</td>\n",
              "      <td>0.457129</td>\n",
              "      <td>0.027361</td>\n",
              "      <td>-0.003695</td>\n",
              "      <td>-0.036979</td>\n",
              "      <td>0.004388</td>\n",
              "    </tr>\n",
              "    <tr>\n",
              "      <th>start station longitude</th>\n",
              "      <td>0.000777</td>\n",
              "      <td>0.163074</td>\n",
              "      <td>0.171693</td>\n",
              "      <td>1.000000</td>\n",
              "      <td>0.068392</td>\n",
              "      <td>0.035143</td>\n",
              "      <td>0.364446</td>\n",
              "      <td>0.001524</td>\n",
              "      <td>0.033057</td>\n",
              "      <td>0.027751</td>\n",
              "    </tr>\n",
              "    <tr>\n",
              "      <th>end station id</th>\n",
              "      <td>0.006232</td>\n",
              "      <td>0.092344</td>\n",
              "      <td>0.069046</td>\n",
              "      <td>0.068392</td>\n",
              "      <td>1.000000</td>\n",
              "      <td>0.154231</td>\n",
              "      <td>0.166556</td>\n",
              "      <td>-0.001011</td>\n",
              "      <td>0.000086</td>\n",
              "      <td>-0.036685</td>\n",
              "    </tr>\n",
              "    <tr>\n",
              "      <th>end station latitude</th>\n",
              "      <td>0.000624</td>\n",
              "      <td>0.070366</td>\n",
              "      <td>0.457129</td>\n",
              "      <td>0.035143</td>\n",
              "      <td>0.154231</td>\n",
              "      <td>1.000000</td>\n",
              "      <td>0.163155</td>\n",
              "      <td>-0.003321</td>\n",
              "      <td>-0.041142</td>\n",
              "      <td>-0.000794</td>\n",
              "    </tr>\n",
              "    <tr>\n",
              "      <th>end station longitude</th>\n",
              "      <td>0.007520</td>\n",
              "      <td>0.068674</td>\n",
              "      <td>0.027361</td>\n",
              "      <td>0.364446</td>\n",
              "      <td>0.166556</td>\n",
              "      <td>0.163155</td>\n",
              "      <td>1.000000</td>\n",
              "      <td>0.002042</td>\n",
              "      <td>0.034632</td>\n",
              "      <td>0.018772</td>\n",
              "    </tr>\n",
              "    <tr>\n",
              "      <th>bikeid</th>\n",
              "      <td>-0.000511</td>\n",
              "      <td>-0.001722</td>\n",
              "      <td>-0.003695</td>\n",
              "      <td>0.001524</td>\n",
              "      <td>-0.001011</td>\n",
              "      <td>-0.003321</td>\n",
              "      <td>0.002042</td>\n",
              "      <td>1.000000</td>\n",
              "      <td>0.000064</td>\n",
              "      <td>-0.001339</td>\n",
              "    </tr>\n",
              "    <tr>\n",
              "      <th>birth year</th>\n",
              "      <td>-0.009432</td>\n",
              "      <td>0.000443</td>\n",
              "      <td>-0.036979</td>\n",
              "      <td>0.033057</td>\n",
              "      <td>0.000086</td>\n",
              "      <td>-0.041142</td>\n",
              "      <td>0.034632</td>\n",
              "      <td>0.000064</td>\n",
              "      <td>1.000000</td>\n",
              "      <td>0.034171</td>\n",
              "    </tr>\n",
              "    <tr>\n",
              "      <th>gender</th>\n",
              "      <td>-0.028804</td>\n",
              "      <td>-0.032502</td>\n",
              "      <td>0.004388</td>\n",
              "      <td>0.027751</td>\n",
              "      <td>-0.036685</td>\n",
              "      <td>-0.000794</td>\n",
              "      <td>0.018772</td>\n",
              "      <td>-0.001339</td>\n",
              "      <td>0.034171</td>\n",
              "      <td>1.000000</td>\n",
              "    </tr>\n",
              "  </tbody>\n",
              "</table>\n",
              "</div>"
            ],
            "text/plain": [
              "                         tripduration  start station id  ...  birth year    gender\n",
              "tripduration                 1.000000          0.005154  ...   -0.009432 -0.028804\n",
              "start station id             0.005154          1.000000  ...    0.000443 -0.032502\n",
              "start station latitude      -0.003108          0.153313  ...   -0.036979  0.004388\n",
              "start station longitude      0.000777          0.163074  ...    0.033057  0.027751\n",
              "end station id               0.006232          0.092344  ...    0.000086 -0.036685\n",
              "end station latitude         0.000624          0.070366  ...   -0.041142 -0.000794\n",
              "end station longitude        0.007520          0.068674  ...    0.034632  0.018772\n",
              "bikeid                      -0.000511         -0.001722  ...    0.000064 -0.001339\n",
              "birth year                  -0.009432          0.000443  ...    1.000000  0.034171\n",
              "gender                      -0.028804         -0.032502  ...    0.034171  1.000000\n",
              "\n",
              "[10 rows x 10 columns]"
            ]
          },
          "metadata": {
            "tags": []
          },
          "execution_count": 31
        }
      ]
    },
    {
      "cell_type": "code",
      "metadata": {
        "id": "oJH8n2sKFdeV",
        "colab_type": "code",
        "colab": {}
      },
      "source": [
        ""
      ],
      "execution_count": 0,
      "outputs": []
    }
  ]
}