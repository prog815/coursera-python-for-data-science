{
  "nbformat": 4,
  "nbformat_minor": 0,
  "metadata": {
    "colab": {
      "name": "4_prep_data.ipynb",
      "version": "0.3.2",
      "provenance": [],
      "toc_visible": true,
      "include_colab_link": true
    },
    "kernelspec": {
      "name": "python3",
      "display_name": "Python 3"
    }
  },
  "cells": [
    {
      "cell_type": "markdown",
      "metadata": {
        "id": "view-in-github",
        "colab_type": "text"
      },
      "source": [
        "<a href=\"https://colab.research.google.com/github/prog815/coursera-python-for-data-science/blob/master/4_prep_data.ipynb\" target=\"_parent\"><img src=\"https://colab.research.google.com/assets/colab-badge.svg\" alt=\"Open In Colab\"/></a>"
      ]
    },
    {
      "cell_type": "markdown",
      "metadata": {
        "id": "8ga5BsqfLCam",
        "colab_type": "text"
      },
      "source": [
        "# Подготовка данных\n",
        "\n",
        "ручками проходим примеры https://www.coursera.org/learn/python-for-data-science/home/week/1"
      ]
    },
    {
      "cell_type": "markdown",
      "metadata": {
        "id": "X_l4WtRJN-Rj",
        "colab_type": "text"
      },
      "source": [
        "## 4.1 Знакомство с библиотекой pandas"
      ]
    },
    {
      "cell_type": "code",
      "metadata": {
        "id": "72IHG-Z6K64F",
        "colab_type": "code",
        "colab": {}
      },
      "source": [
        "import pandas as pd"
      ],
      "execution_count": 0,
      "outputs": []
    },
    {
      "cell_type": "markdown",
      "metadata": {
        "id": "PlVDh6fFN6MH",
        "colab_type": "text"
      },
      "source": [
        "## 4.2 Объект pandas.Series"
      ]
    },
    {
      "cell_type": "code",
      "metadata": {
        "id": "18lsLK3RLNj2",
        "colab_type": "code",
        "colab": {
          "base_uri": "https://localhost:8080/",
          "height": 119
        },
        "outputId": "478cd56d-42d8-489c-ad4a-fafdf86df62d"
      },
      "source": [
        "pd.Series([1,2,3,4,5],index=[-1,-2,-3,-4,-5])"
      ],
      "execution_count": 4,
      "outputs": [
        {
          "output_type": "execute_result",
          "data": {
            "text/plain": [
              "-1    1\n",
              "-2    2\n",
              "-3    3\n",
              "-4    4\n",
              "-5    5\n",
              "dtype: int64"
            ]
          },
          "metadata": {
            "tags": []
          },
          "execution_count": 4
        }
      ]
    },
    {
      "cell_type": "code",
      "metadata": {
        "id": "urMCJfCYOLWt",
        "colab_type": "code",
        "colab": {}
      },
      "source": [
        "d = {'Moscow': 1000, 'London': 300, 'Barcelona': None}\n",
        "cities = pd.Series(d)"
      ],
      "execution_count": 0,
      "outputs": []
    },
    {
      "cell_type": "code",
      "metadata": {
        "id": "xMZTFPpVObTW",
        "colab_type": "code",
        "colab": {
          "base_uri": "https://localhost:8080/",
          "height": 85
        },
        "outputId": "a1bcfa71-a7ee-404f-bb37-ba5b6fd310bb"
      },
      "source": [
        "cities"
      ],
      "execution_count": 8,
      "outputs": [
        {
          "output_type": "execute_result",
          "data": {
            "text/plain": [
              "Moscow       1000.0\n",
              "London        300.0\n",
              "Barcelona       NaN\n",
              "dtype: float64"
            ]
          },
          "metadata": {
            "tags": []
          },
          "execution_count": 8
        }
      ]
    },
    {
      "cell_type": "code",
      "metadata": {
        "id": "pPT53ZF6OwYD",
        "colab_type": "code",
        "colab": {
          "base_uri": "https://localhost:8080/",
          "height": 68
        },
        "outputId": "c1a16b27-af51-41ba-85e1-2af5544e9b63"
      },
      "source": [
        "cities[['Moscow','London']]"
      ],
      "execution_count": 14,
      "outputs": [
        {
          "output_type": "execute_result",
          "data": {
            "text/plain": [
              "Moscow    1000.0\n",
              "London     300.0\n",
              "dtype: float64"
            ]
          },
          "metadata": {
            "tags": []
          },
          "execution_count": 14
        }
      ]
    },
    {
      "cell_type": "code",
      "metadata": {
        "id": "up_ZThYtO1f1",
        "colab_type": "code",
        "colab": {
          "base_uri": "https://localhost:8080/",
          "height": 51
        },
        "outputId": "2848dac0-c610-418e-bac3-ea0c080da9fc"
      },
      "source": [
        "cities[ cities < 1000]"
      ],
      "execution_count": 16,
      "outputs": [
        {
          "output_type": "execute_result",
          "data": {
            "text/plain": [
              "London    300.0\n",
              "dtype: float64"
            ]
          },
          "metadata": {
            "tags": []
          },
          "execution_count": 16
        }
      ]
    },
    {
      "cell_type": "code",
      "metadata": {
        "id": "sfx_Fv-fPXl8",
        "colab_type": "code",
        "colab": {}
      },
      "source": [
        "cities[ cities < 1000] = 3"
      ],
      "execution_count": 0,
      "outputs": []
    },
    {
      "cell_type": "code",
      "metadata": {
        "id": "JVxsXFiuPiRz",
        "colab_type": "code",
        "colab": {
          "base_uri": "https://localhost:8080/",
          "height": 85
        },
        "outputId": "4b4650cf-c01d-465e-ad99-a2ce82bc21b4"
      },
      "source": [
        "cities"
      ],
      "execution_count": 18,
      "outputs": [
        {
          "output_type": "execute_result",
          "data": {
            "text/plain": [
              "Moscow       1000.0\n",
              "London          3.0\n",
              "Barcelona       NaN\n",
              "dtype: float64"
            ]
          },
          "metadata": {
            "tags": []
          },
          "execution_count": 18
        }
      ]
    },
    {
      "cell_type": "code",
      "metadata": {
        "id": "o3Vurc7nPkHL",
        "colab_type": "code",
        "colab": {
          "base_uri": "https://localhost:8080/",
          "height": 85
        },
        "outputId": "51715b1d-b75b-4c54-bd9f-95b417a3f625"
      },
      "source": [
        "cities*3"
      ],
      "execution_count": 19,
      "outputs": [
        {
          "output_type": "execute_result",
          "data": {
            "text/plain": [
              "Moscow       3000.0\n",
              "London          9.0\n",
              "Barcelona       NaN\n",
              "dtype: float64"
            ]
          },
          "metadata": {
            "tags": []
          },
          "execution_count": 19
        }
      ]
    },
    {
      "cell_type": "code",
      "metadata": {
        "id": "RvPukLEyPnyE",
        "colab_type": "code",
        "colab": {
          "base_uri": "https://localhost:8080/",
          "height": 51
        },
        "outputId": "bc274fa7-6acb-4288-e33d-72532a95429e"
      },
      "source": [
        "cities[ cities.isnull()]"
      ],
      "execution_count": 21,
      "outputs": [
        {
          "output_type": "execute_result",
          "data": {
            "text/plain": [
              "Barcelona   NaN\n",
              "dtype: float64"
            ]
          },
          "metadata": {
            "tags": []
          },
          "execution_count": 21
        }
      ]
    },
    {
      "cell_type": "markdown",
      "metadata": {
        "id": "TFEqpr5uP1lv",
        "colab_type": "text"
      },
      "source": [
        "## 4.3 Объект pandas.DataFrame"
      ]
    },
    {
      "cell_type": "code",
      "metadata": {
        "id": "FQ8tJfcmPuBG",
        "colab_type": "code",
        "colab": {}
      },
      "source": [
        "import pandas as pd\n",
        "import numpy as np"
      ],
      "execution_count": 0,
      "outputs": []
    },
    {
      "cell_type": "code",
      "metadata": {
        "id": "wpU-IHHQQ6UO",
        "colab_type": "code",
        "colab": {
          "base_uri": "https://localhost:8080/",
          "height": 204
        },
        "outputId": "12623f3a-9753-4e42-fd17-bed7151d2dce"
      },
      "source": [
        "! wget https://s3.amazonaws.com/tripdata/201306-citibike-tripdata.zip -O citibike.zip"
      ],
      "execution_count": 23,
      "outputs": [
        {
          "output_type": "stream",
          "text": [
            "--2019-09-05 11:59:54--  https://s3.amazonaws.com/tripdata/201306-citibike-tripdata.zip\n",
            "Resolving s3.amazonaws.com (s3.amazonaws.com)... 52.216.1.155\n",
            "Connecting to s3.amazonaws.com (s3.amazonaws.com)|52.216.1.155|:443... connected.\n",
            "HTTP request sent, awaiting response... 200 OK\n",
            "Length: 16785103 (16M) [application/zip]\n",
            "Saving to: ‘citibike.zip’\n",
            "\n",
            "citibike.zip        100%[===================>]  16.01M  20.5MB/s    in 0.8s    \n",
            "\n",
            "2019-09-05 11:59:55 (20.5 MB/s) - ‘citibike.zip’ saved [16785103/16785103]\n",
            "\n"
          ],
          "name": "stdout"
        }
      ]
    },
    {
      "cell_type": "code",
      "metadata": {
        "id": "t7oGHndKS5Qs",
        "colab_type": "code",
        "colab": {
          "base_uri": "https://localhost:8080/",
          "height": 85
        },
        "outputId": "c215e7c4-0c29-4e2c-bab1-c88e165e1c4d"
      },
      "source": [
        "! unzip citibike.zip"
      ],
      "execution_count": 24,
      "outputs": [
        {
          "output_type": "stream",
          "text": [
            "Archive:  citibike.zip\n",
            "  inflating: 201306-citibike-tripdata.csv  \n",
            "   creating: __MACOSX/\n",
            "  inflating: __MACOSX/._201306-citibike-tripdata.csv  \n"
          ],
          "name": "stdout"
        }
      ]
    },
    {
      "cell_type": "code",
      "metadata": {
        "id": "f_w-HxwNTU21",
        "colab_type": "code",
        "colab": {}
      },
      "source": [
        "df = pd.read_csv('201306-citibike-tripdata.csv')"
      ],
      "execution_count": 0,
      "outputs": []
    },
    {
      "cell_type": "code",
      "metadata": {
        "id": "e3-fIbD6Tm0z",
        "colab_type": "code",
        "colab": {
          "base_uri": "https://localhost:8080/",
          "height": 34
        },
        "outputId": "bfed7e47-f7d9-4a12-d72d-5dc9eebbf061"
      },
      "source": [
        "df.shape"
      ],
      "execution_count": 26,
      "outputs": [
        {
          "output_type": "execute_result",
          "data": {
            "text/plain": [
              "(577703, 15)"
            ]
          },
          "metadata": {
            "tags": []
          },
          "execution_count": 26
        }
      ]
    },
    {
      "cell_type": "code",
      "metadata": {
        "id": "1gKCrmBjTtEk",
        "colab_type": "code",
        "colab": {
          "base_uri": "https://localhost:8080/",
          "height": 227
        },
        "outputId": "15a6951c-79ae-42aa-9c36-fbe2da9b57c8"
      },
      "source": [
        "df.head(3)"
      ],
      "execution_count": 27,
      "outputs": [
        {
          "output_type": "execute_result",
          "data": {
            "text/html": [
              "<div>\n",
              "<style scoped>\n",
              "    .dataframe tbody tr th:only-of-type {\n",
              "        vertical-align: middle;\n",
              "    }\n",
              "\n",
              "    .dataframe tbody tr th {\n",
              "        vertical-align: top;\n",
              "    }\n",
              "\n",
              "    .dataframe thead th {\n",
              "        text-align: right;\n",
              "    }\n",
              "</style>\n",
              "<table border=\"1\" class=\"dataframe\">\n",
              "  <thead>\n",
              "    <tr style=\"text-align: right;\">\n",
              "      <th></th>\n",
              "      <th>tripduration</th>\n",
              "      <th>starttime</th>\n",
              "      <th>stoptime</th>\n",
              "      <th>start station id</th>\n",
              "      <th>start station name</th>\n",
              "      <th>start station latitude</th>\n",
              "      <th>start station longitude</th>\n",
              "      <th>end station id</th>\n",
              "      <th>end station name</th>\n",
              "      <th>end station latitude</th>\n",
              "      <th>end station longitude</th>\n",
              "      <th>bikeid</th>\n",
              "      <th>usertype</th>\n",
              "      <th>birth year</th>\n",
              "      <th>gender</th>\n",
              "    </tr>\n",
              "  </thead>\n",
              "  <tbody>\n",
              "    <tr>\n",
              "      <th>0</th>\n",
              "      <td>695</td>\n",
              "      <td>2013-06-01 00:00:01</td>\n",
              "      <td>2013-06-01 00:11:36</td>\n",
              "      <td>444</td>\n",
              "      <td>Broadway &amp; W 24 St</td>\n",
              "      <td>40.742354</td>\n",
              "      <td>-73.989151</td>\n",
              "      <td>434.0</td>\n",
              "      <td>9 Ave &amp; W 18 St</td>\n",
              "      <td>40.743174</td>\n",
              "      <td>-74.003664</td>\n",
              "      <td>19678</td>\n",
              "      <td>Subscriber</td>\n",
              "      <td>1983.0</td>\n",
              "      <td>1</td>\n",
              "    </tr>\n",
              "    <tr>\n",
              "      <th>1</th>\n",
              "      <td>693</td>\n",
              "      <td>2013-06-01 00:00:08</td>\n",
              "      <td>2013-06-01 00:11:41</td>\n",
              "      <td>444</td>\n",
              "      <td>Broadway &amp; W 24 St</td>\n",
              "      <td>40.742354</td>\n",
              "      <td>-73.989151</td>\n",
              "      <td>434.0</td>\n",
              "      <td>9 Ave &amp; W 18 St</td>\n",
              "      <td>40.743174</td>\n",
              "      <td>-74.003664</td>\n",
              "      <td>16649</td>\n",
              "      <td>Subscriber</td>\n",
              "      <td>1984.0</td>\n",
              "      <td>1</td>\n",
              "    </tr>\n",
              "    <tr>\n",
              "      <th>2</th>\n",
              "      <td>2059</td>\n",
              "      <td>2013-06-01 00:00:44</td>\n",
              "      <td>2013-06-01 00:35:03</td>\n",
              "      <td>406</td>\n",
              "      <td>Hicks St &amp; Montague St</td>\n",
              "      <td>40.695128</td>\n",
              "      <td>-73.995951</td>\n",
              "      <td>406.0</td>\n",
              "      <td>Hicks St &amp; Montague St</td>\n",
              "      <td>40.695128</td>\n",
              "      <td>-73.995951</td>\n",
              "      <td>19599</td>\n",
              "      <td>Customer</td>\n",
              "      <td>NaN</td>\n",
              "      <td>0</td>\n",
              "    </tr>\n",
              "  </tbody>\n",
              "</table>\n",
              "</div>"
            ],
            "text/plain": [
              "   tripduration            starttime  ... birth year  gender\n",
              "0           695  2013-06-01 00:00:01  ...     1983.0       1\n",
              "1           693  2013-06-01 00:00:08  ...     1984.0       1\n",
              "2          2059  2013-06-01 00:00:44  ...        NaN       0\n",
              "\n",
              "[3 rows x 15 columns]"
            ]
          },
          "metadata": {
            "tags": []
          },
          "execution_count": 27
        }
      ]
    },
    {
      "cell_type": "code",
      "metadata": {
        "id": "psWnQ-pITxqz",
        "colab_type": "code",
        "colab": {
          "base_uri": "https://localhost:8080/",
          "height": 563
        },
        "outputId": "2dbcc3f7-f5c6-459b-db25-7dba9bf9ed81"
      },
      "source": [
        "df.tail(10)"
      ],
      "execution_count": 28,
      "outputs": [
        {
          "output_type": "execute_result",
          "data": {
            "text/html": [
              "<div>\n",
              "<style scoped>\n",
              "    .dataframe tbody tr th:only-of-type {\n",
              "        vertical-align: middle;\n",
              "    }\n",
              "\n",
              "    .dataframe tbody tr th {\n",
              "        vertical-align: top;\n",
              "    }\n",
              "\n",
              "    .dataframe thead th {\n",
              "        text-align: right;\n",
              "    }\n",
              "</style>\n",
              "<table border=\"1\" class=\"dataframe\">\n",
              "  <thead>\n",
              "    <tr style=\"text-align: right;\">\n",
              "      <th></th>\n",
              "      <th>tripduration</th>\n",
              "      <th>starttime</th>\n",
              "      <th>stoptime</th>\n",
              "      <th>start station id</th>\n",
              "      <th>start station name</th>\n",
              "      <th>start station latitude</th>\n",
              "      <th>start station longitude</th>\n",
              "      <th>end station id</th>\n",
              "      <th>end station name</th>\n",
              "      <th>end station latitude</th>\n",
              "      <th>end station longitude</th>\n",
              "      <th>bikeid</th>\n",
              "      <th>usertype</th>\n",
              "      <th>birth year</th>\n",
              "      <th>gender</th>\n",
              "    </tr>\n",
              "  </thead>\n",
              "  <tbody>\n",
              "    <tr>\n",
              "      <th>577693</th>\n",
              "      <td>1059</td>\n",
              "      <td>2013-06-30 23:58:41</td>\n",
              "      <td>2013-07-01 00:16:20</td>\n",
              "      <td>477</td>\n",
              "      <td>W 41 St &amp; 8 Ave</td>\n",
              "      <td>40.756405</td>\n",
              "      <td>-73.990026</td>\n",
              "      <td>477.0</td>\n",
              "      <td>W 41 St &amp; 8 Ave</td>\n",
              "      <td>40.756405</td>\n",
              "      <td>-73.990026</td>\n",
              "      <td>16416</td>\n",
              "      <td>Customer</td>\n",
              "      <td>NaN</td>\n",
              "      <td>0</td>\n",
              "    </tr>\n",
              "    <tr>\n",
              "      <th>577694</th>\n",
              "      <td>1628</td>\n",
              "      <td>2013-06-30 23:58:46</td>\n",
              "      <td>2013-07-01 00:25:54</td>\n",
              "      <td>470</td>\n",
              "      <td>W 20 St &amp; 8 Ave</td>\n",
              "      <td>40.743453</td>\n",
              "      <td>-74.000040</td>\n",
              "      <td>268.0</td>\n",
              "      <td>Howard St &amp; Centre St</td>\n",
              "      <td>40.719105</td>\n",
              "      <td>-73.999733</td>\n",
              "      <td>15393</td>\n",
              "      <td>Customer</td>\n",
              "      <td>NaN</td>\n",
              "      <td>0</td>\n",
              "    </tr>\n",
              "    <tr>\n",
              "      <th>577695</th>\n",
              "      <td>81406</td>\n",
              "      <td>2013-06-30 23:58:45</td>\n",
              "      <td>2013-07-01 22:35:31</td>\n",
              "      <td>477</td>\n",
              "      <td>W 41 St &amp; 8 Ave</td>\n",
              "      <td>40.756405</td>\n",
              "      <td>-73.990026</td>\n",
              "      <td>116.0</td>\n",
              "      <td>W 17 St &amp; 8 Ave</td>\n",
              "      <td>40.741776</td>\n",
              "      <td>-74.001497</td>\n",
              "      <td>18726</td>\n",
              "      <td>Customer</td>\n",
              "      <td>NaN</td>\n",
              "      <td>0</td>\n",
              "    </tr>\n",
              "    <tr>\n",
              "      <th>577696</th>\n",
              "      <td>1397</td>\n",
              "      <td>2013-06-30 23:59:16</td>\n",
              "      <td>2013-07-01 00:22:33</td>\n",
              "      <td>470</td>\n",
              "      <td>W 20 St &amp; 8 Ave</td>\n",
              "      <td>40.743453</td>\n",
              "      <td>-74.000040</td>\n",
              "      <td>268.0</td>\n",
              "      <td>Howard St &amp; Centre St</td>\n",
              "      <td>40.719105</td>\n",
              "      <td>-73.999733</td>\n",
              "      <td>15487</td>\n",
              "      <td>Customer</td>\n",
              "      <td>NaN</td>\n",
              "      <td>0</td>\n",
              "    </tr>\n",
              "    <tr>\n",
              "      <th>577697</th>\n",
              "      <td>81724</td>\n",
              "      <td>2013-06-30 23:59:18</td>\n",
              "      <td>2013-07-01 22:41:22</td>\n",
              "      <td>477</td>\n",
              "      <td>W 41 St &amp; 8 Ave</td>\n",
              "      <td>40.756405</td>\n",
              "      <td>-73.990026</td>\n",
              "      <td>116.0</td>\n",
              "      <td>W 17 St &amp; 8 Ave</td>\n",
              "      <td>40.741776</td>\n",
              "      <td>-74.001497</td>\n",
              "      <td>14718</td>\n",
              "      <td>Customer</td>\n",
              "      <td>NaN</td>\n",
              "      <td>0</td>\n",
              "    </tr>\n",
              "    <tr>\n",
              "      <th>577698</th>\n",
              "      <td>925</td>\n",
              "      <td>2013-06-30 23:59:27</td>\n",
              "      <td>2013-07-01 00:14:52</td>\n",
              "      <td>509</td>\n",
              "      <td>9 Ave &amp; W 22 St</td>\n",
              "      <td>40.745497</td>\n",
              "      <td>-74.001971</td>\n",
              "      <td>462.0</td>\n",
              "      <td>W 22 St &amp; 10 Ave</td>\n",
              "      <td>40.746920</td>\n",
              "      <td>-74.004519</td>\n",
              "      <td>15250</td>\n",
              "      <td>Subscriber</td>\n",
              "      <td>1964.0</td>\n",
              "      <td>1</td>\n",
              "    </tr>\n",
              "    <tr>\n",
              "      <th>577699</th>\n",
              "      <td>279</td>\n",
              "      <td>2013-06-30 23:59:36</td>\n",
              "      <td>2013-07-01 00:04:15</td>\n",
              "      <td>116</td>\n",
              "      <td>W 17 St &amp; 8 Ave</td>\n",
              "      <td>40.741776</td>\n",
              "      <td>-74.001497</td>\n",
              "      <td>494.0</td>\n",
              "      <td>W 26 St &amp; 8 Ave</td>\n",
              "      <td>40.747348</td>\n",
              "      <td>-73.997236</td>\n",
              "      <td>19411</td>\n",
              "      <td>Customer</td>\n",
              "      <td>NaN</td>\n",
              "      <td>0</td>\n",
              "    </tr>\n",
              "    <tr>\n",
              "      <th>577700</th>\n",
              "      <td>161</td>\n",
              "      <td>2013-06-30 23:59:33</td>\n",
              "      <td>2013-07-01 00:02:14</td>\n",
              "      <td>443</td>\n",
              "      <td>Bedford Ave &amp; S 9 St</td>\n",
              "      <td>40.708531</td>\n",
              "      <td>-73.964090</td>\n",
              "      <td>282.0</td>\n",
              "      <td>Kent Ave &amp; S 11 St</td>\n",
              "      <td>40.707645</td>\n",
              "      <td>-73.968415</td>\n",
              "      <td>18910</td>\n",
              "      <td>Subscriber</td>\n",
              "      <td>1972.0</td>\n",
              "      <td>2</td>\n",
              "    </tr>\n",
              "    <tr>\n",
              "      <th>577701</th>\n",
              "      <td>909</td>\n",
              "      <td>2013-06-30 23:59:47</td>\n",
              "      <td>2013-07-01 00:14:56</td>\n",
              "      <td>509</td>\n",
              "      <td>9 Ave &amp; W 22 St</td>\n",
              "      <td>40.745497</td>\n",
              "      <td>-74.001971</td>\n",
              "      <td>462.0</td>\n",
              "      <td>W 22 St &amp; 10 Ave</td>\n",
              "      <td>40.746920</td>\n",
              "      <td>-74.004519</td>\n",
              "      <td>16108</td>\n",
              "      <td>Customer</td>\n",
              "      <td>NaN</td>\n",
              "      <td>0</td>\n",
              "    </tr>\n",
              "    <tr>\n",
              "      <th>577702</th>\n",
              "      <td>634</td>\n",
              "      <td>2013-07-01 00:00:00</td>\n",
              "      <td>2013-07-01 00:10:34</td>\n",
              "      <td>164</td>\n",
              "      <td>E 47 St &amp; 2 Ave</td>\n",
              "      <td>40.753231</td>\n",
              "      <td>-73.970325</td>\n",
              "      <td>504.0</td>\n",
              "      <td>1 Ave &amp; E 16 St</td>\n",
              "      <td>40.732219</td>\n",
              "      <td>-73.981656</td>\n",
              "      <td>16950</td>\n",
              "      <td>Customer</td>\n",
              "      <td>NaN</td>\n",
              "      <td>0</td>\n",
              "    </tr>\n",
              "  </tbody>\n",
              "</table>\n",
              "</div>"
            ],
            "text/plain": [
              "        tripduration            starttime  ... birth year  gender\n",
              "577693          1059  2013-06-30 23:58:41  ...        NaN       0\n",
              "577694          1628  2013-06-30 23:58:46  ...        NaN       0\n",
              "577695         81406  2013-06-30 23:58:45  ...        NaN       0\n",
              "577696          1397  2013-06-30 23:59:16  ...        NaN       0\n",
              "577697         81724  2013-06-30 23:59:18  ...        NaN       0\n",
              "577698           925  2013-06-30 23:59:27  ...     1964.0       1\n",
              "577699           279  2013-06-30 23:59:36  ...        NaN       0\n",
              "577700           161  2013-06-30 23:59:33  ...     1972.0       2\n",
              "577701           909  2013-06-30 23:59:47  ...        NaN       0\n",
              "577702           634  2013-07-01 00:00:00  ...        NaN       0\n",
              "\n",
              "[10 rows x 15 columns]"
            ]
          },
          "metadata": {
            "tags": []
          },
          "execution_count": 28
        }
      ]
    },
    {
      "cell_type": "code",
      "metadata": {
        "id": "AzqFRE2WT4sa",
        "colab_type": "code",
        "colab": {
          "base_uri": "https://localhost:8080/",
          "height": 119
        },
        "outputId": "458b066b-d520-4d07-e6ca-0538b3b16187"
      },
      "source": [
        "df.columns"
      ],
      "execution_count": 29,
      "outputs": [
        {
          "output_type": "execute_result",
          "data": {
            "text/plain": [
              "Index(['tripduration', 'starttime', 'stoptime', 'start station id',\n",
              "       'start station name', 'start station latitude',\n",
              "       'start station longitude', 'end station id', 'end station name',\n",
              "       'end station latitude', 'end station longitude', 'bikeid', 'usertype',\n",
              "       'birth year', 'gender'],\n",
              "      dtype='object')"
            ]
          },
          "metadata": {
            "tags": []
          },
          "execution_count": 29
        }
      ]
    },
    {
      "cell_type": "code",
      "metadata": {
        "id": "vPD_rSn2T7_t",
        "colab_type": "code",
        "colab": {
          "base_uri": "https://localhost:8080/",
          "height": 289
        },
        "outputId": "67107725-7b2f-4ba6-a04b-938504ab2f65"
      },
      "source": [
        "df.dtypes"
      ],
      "execution_count": 30,
      "outputs": [
        {
          "output_type": "execute_result",
          "data": {
            "text/plain": [
              "tripduration                 int64\n",
              "starttime                   object\n",
              "stoptime                    object\n",
              "start station id             int64\n",
              "start station name          object\n",
              "start station latitude     float64\n",
              "start station longitude    float64\n",
              "end station id             float64\n",
              "end station name            object\n",
              "end station latitude       float64\n",
              "end station longitude      float64\n",
              "bikeid                       int64\n",
              "usertype                    object\n",
              "birth year                 float64\n",
              "gender                       int64\n",
              "dtype: object"
            ]
          },
          "metadata": {
            "tags": []
          },
          "execution_count": 30
        }
      ]
    },
    {
      "cell_type": "code",
      "metadata": {
        "id": "VA_H8w2uUCgq",
        "colab_type": "code",
        "colab": {
          "base_uri": "https://localhost:8080/",
          "height": 204
        },
        "outputId": "52e9e114-1d39-43ba-e859-80331897b332"
      },
      "source": [
        "df[['tripduration','bikeid']].head()"
      ],
      "execution_count": 32,
      "outputs": [
        {
          "output_type": "execute_result",
          "data": {
            "text/html": [
              "<div>\n",
              "<style scoped>\n",
              "    .dataframe tbody tr th:only-of-type {\n",
              "        vertical-align: middle;\n",
              "    }\n",
              "\n",
              "    .dataframe tbody tr th {\n",
              "        vertical-align: top;\n",
              "    }\n",
              "\n",
              "    .dataframe thead th {\n",
              "        text-align: right;\n",
              "    }\n",
              "</style>\n",
              "<table border=\"1\" class=\"dataframe\">\n",
              "  <thead>\n",
              "    <tr style=\"text-align: right;\">\n",
              "      <th></th>\n",
              "      <th>tripduration</th>\n",
              "      <th>bikeid</th>\n",
              "    </tr>\n",
              "  </thead>\n",
              "  <tbody>\n",
              "    <tr>\n",
              "      <th>0</th>\n",
              "      <td>695</td>\n",
              "      <td>19678</td>\n",
              "    </tr>\n",
              "    <tr>\n",
              "      <th>1</th>\n",
              "      <td>693</td>\n",
              "      <td>16649</td>\n",
              "    </tr>\n",
              "    <tr>\n",
              "      <th>2</th>\n",
              "      <td>2059</td>\n",
              "      <td>19599</td>\n",
              "    </tr>\n",
              "    <tr>\n",
              "      <th>3</th>\n",
              "      <td>123</td>\n",
              "      <td>16352</td>\n",
              "    </tr>\n",
              "    <tr>\n",
              "      <th>4</th>\n",
              "      <td>1521</td>\n",
              "      <td>15567</td>\n",
              "    </tr>\n",
              "  </tbody>\n",
              "</table>\n",
              "</div>"
            ],
            "text/plain": [
              "   tripduration  bikeid\n",
              "0           695   19678\n",
              "1           693   16649\n",
              "2          2059   19599\n",
              "3           123   16352\n",
              "4          1521   15567"
            ]
          },
          "metadata": {
            "tags": []
          },
          "execution_count": 32
        }
      ]
    },
    {
      "cell_type": "code",
      "metadata": {
        "id": "hU33iFlYUPvZ",
        "colab_type": "code",
        "colab": {
          "base_uri": "https://localhost:8080/",
          "height": 289
        },
        "outputId": "75f50ad4-fc67-42b3-ba71-c8458bccc46f"
      },
      "source": [
        "df.iloc[-1]"
      ],
      "execution_count": 33,
      "outputs": [
        {
          "output_type": "execute_result",
          "data": {
            "text/plain": [
              "tripduration                               634\n",
              "starttime                  2013-07-01 00:00:00\n",
              "stoptime                   2013-07-01 00:10:34\n",
              "start station id                           164\n",
              "start station name             E 47 St & 2 Ave\n",
              "start station latitude                 40.7532\n",
              "start station longitude               -73.9703\n",
              "end station id                             504\n",
              "end station name               1 Ave & E 16 St\n",
              "end station latitude                   40.7322\n",
              "end station longitude                 -73.9817\n",
              "bikeid                                   16950\n",
              "usertype                              Customer\n",
              "birth year                                 NaN\n",
              "gender                                       0\n",
              "Name: 577702, dtype: object"
            ]
          },
          "metadata": {
            "tags": []
          },
          "execution_count": 33
        }
      ]
    },
    {
      "cell_type": "code",
      "metadata": {
        "id": "V26b-5bYUctu",
        "colab_type": "code",
        "colab": {
          "base_uri": "https://localhost:8080/",
          "height": 34
        },
        "outputId": "26f7384a-a411-4e04-88b0-3f5c811d4368"
      },
      "source": [
        "df.iloc[-1,-3]"
      ],
      "execution_count": 34,
      "outputs": [
        {
          "output_type": "execute_result",
          "data": {
            "text/plain": [
              "'Customer'"
            ]
          },
          "metadata": {
            "tags": []
          },
          "execution_count": 34
        }
      ]
    },
    {
      "cell_type": "code",
      "metadata": {
        "id": "pxWHRk0BUxSq",
        "colab_type": "code",
        "colab": {
          "base_uri": "https://localhost:8080/",
          "height": 142
        },
        "outputId": "a9791995-e775-4d6f-c046-c45124bdda05"
      },
      "source": [
        "df.iloc[:3,:4]"
      ],
      "execution_count": 39,
      "outputs": [
        {
          "output_type": "execute_result",
          "data": {
            "text/html": [
              "<div>\n",
              "<style scoped>\n",
              "    .dataframe tbody tr th:only-of-type {\n",
              "        vertical-align: middle;\n",
              "    }\n",
              "\n",
              "    .dataframe tbody tr th {\n",
              "        vertical-align: top;\n",
              "    }\n",
              "\n",
              "    .dataframe thead th {\n",
              "        text-align: right;\n",
              "    }\n",
              "</style>\n",
              "<table border=\"1\" class=\"dataframe\">\n",
              "  <thead>\n",
              "    <tr style=\"text-align: right;\">\n",
              "      <th></th>\n",
              "      <th>tripduration</th>\n",
              "      <th>starttime</th>\n",
              "      <th>stoptime</th>\n",
              "      <th>start station id</th>\n",
              "    </tr>\n",
              "  </thead>\n",
              "  <tbody>\n",
              "    <tr>\n",
              "      <th>0</th>\n",
              "      <td>695</td>\n",
              "      <td>2013-06-01 00:00:01</td>\n",
              "      <td>2013-06-01 00:11:36</td>\n",
              "      <td>444</td>\n",
              "    </tr>\n",
              "    <tr>\n",
              "      <th>1</th>\n",
              "      <td>693</td>\n",
              "      <td>2013-06-01 00:00:08</td>\n",
              "      <td>2013-06-01 00:11:41</td>\n",
              "      <td>444</td>\n",
              "    </tr>\n",
              "    <tr>\n",
              "      <th>2</th>\n",
              "      <td>2059</td>\n",
              "      <td>2013-06-01 00:00:44</td>\n",
              "      <td>2013-06-01 00:35:03</td>\n",
              "      <td>406</td>\n",
              "    </tr>\n",
              "  </tbody>\n",
              "</table>\n",
              "</div>"
            ],
            "text/plain": [
              "   tripduration            starttime             stoptime  start station id\n",
              "0           695  2013-06-01 00:00:01  2013-06-01 00:11:36               444\n",
              "1           693  2013-06-01 00:00:08  2013-06-01 00:11:41               444\n",
              "2          2059  2013-06-01 00:00:44  2013-06-01 00:35:03               406"
            ]
          },
          "metadata": {
            "tags": []
          },
          "execution_count": 39
        }
      ]
    },
    {
      "cell_type": "code",
      "metadata": {
        "id": "wQ1ywb_1VAAo",
        "colab_type": "code",
        "colab": {
          "base_uri": "https://localhost:8080/",
          "height": 102
        },
        "outputId": "07d12664-bba6-4048-ff92-425b9c39a792"
      },
      "source": [
        "df.loc[:3,'gender']"
      ],
      "execution_count": 44,
      "outputs": [
        {
          "output_type": "execute_result",
          "data": {
            "text/plain": [
              "0    1\n",
              "1    1\n",
              "2    0\n",
              "3    1\n",
              "Name: gender, dtype: int64"
            ]
          },
          "metadata": {
            "tags": []
          },
          "execution_count": 44
        }
      ]
    },
    {
      "cell_type": "code",
      "metadata": {
        "id": "tb7Nzv5-VqEZ",
        "colab_type": "code",
        "colab": {}
      },
      "source": [
        ""
      ],
      "execution_count": 0,
      "outputs": []
    }
  ]
}