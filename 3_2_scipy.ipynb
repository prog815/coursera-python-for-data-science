{
  "nbformat": 4,
  "nbformat_minor": 0,
  "metadata": {
    "colab": {
      "name": "3_2_scipy.ipynb",
      "version": "0.3.2",
      "provenance": [],
      "include_colab_link": true
    },
    "kernelspec": {
      "name": "python3",
      "display_name": "Python 3"
    }
  },
  "cells": [
    {
      "cell_type": "markdown",
      "metadata": {
        "id": "view-in-github",
        "colab_type": "text"
      },
      "source": [
        "<a href=\"https://colab.research.google.com/github/prog815/coursera-python-for-data-science/blob/master/3_2_scipy.ipynb\" target=\"_parent\"><img src=\"https://colab.research.google.com/assets/colab-badge.svg\" alt=\"Open In Colab\"/></a>"
      ]
    },
    {
      "cell_type": "markdown",
      "metadata": {
        "id": "UXOOtj5es97n",
        "colab_type": "text"
      },
      "source": [
        "ручками проходим примеры\n",
        "https://www.coursera.org/learn/python-for-data-science/home/week/1\n",
        "\n",
        "# 3.2 Знакомство с библиотекой SciPy"
      ]
    },
    {
      "cell_type": "code",
      "metadata": {
        "id": "81CDmvuXxinz",
        "colab_type": "code",
        "colab": {}
      },
      "source": [
        "from scipy import linalg\n",
        "from scipy import optimize\n",
        "import numpy as np\n",
        "import matplotlib.pyplot as plt"
      ],
      "execution_count": 0,
      "outputs": []
    },
    {
      "cell_type": "code",
      "metadata": {
        "id": "R-GrCA1lyb-x",
        "colab_type": "code",
        "colab": {
          "base_uri": "https://localhost:8080/",
          "height": 85
        },
        "outputId": "9b9e21f6-fedf-41ad-8710-e4f66147a9fa"
      },
      "source": [
        "A = np.random.random((4,4))\n",
        "A"
      ],
      "execution_count": 2,
      "outputs": [
        {
          "output_type": "execute_result",
          "data": {
            "text/plain": [
              "array([[0.35745208, 0.28971734, 0.80408858, 0.34970005],\n",
              "       [0.57163605, 0.56787599, 0.51240089, 0.05175373],\n",
              "       [0.03101567, 0.39594599, 0.50358757, 0.94737303],\n",
              "       [0.72083243, 0.07911001, 0.30102651, 0.71608088]])"
            ]
          },
          "metadata": {
            "tags": []
          },
          "execution_count": 2
        }
      ]
    },
    {
      "cell_type": "code",
      "metadata": {
        "id": "r6Kp9slTymsp",
        "colab_type": "code",
        "colab": {
          "base_uri": "https://localhost:8080/",
          "height": 34
        },
        "outputId": "cf05986e-40ce-4128-df44-a99665e9cd01"
      },
      "source": [
        "linalg.det(A)"
      ],
      "execution_count": 3,
      "outputs": [
        {
          "output_type": "execute_result",
          "data": {
            "text/plain": [
              "0.22369653099788014"
            ]
          },
          "metadata": {
            "tags": []
          },
          "execution_count": 3
        }
      ]
    },
    {
      "cell_type": "code",
      "metadata": {
        "id": "p3Rq1RX3yrMA",
        "colab_type": "code",
        "colab": {
          "base_uri": "https://localhost:8080/",
          "height": 85
        },
        "outputId": "beb03987-36f0-4ccb-b226-823f9982d43e"
      },
      "source": [
        "linalg.inv(A)"
      ],
      "execution_count": 4,
      "outputs": [
        {
          "output_type": "execute_result",
          "data": {
            "text/plain": [
              "array([[-0.26794847,  0.52802696, -0.78808849,  1.13532987],\n",
              "       [-1.6242943 ,  1.94252082,  1.08426764, -0.78164747],\n",
              "       [ 2.14477104, -0.7466402 , -0.40780545, -0.45391694],\n",
              "       [-0.45244757, -0.43226025,  0.8449654 ,  0.5307984 ]])"
            ]
          },
          "metadata": {
            "tags": []
          },
          "execution_count": 4
        }
      ]
    },
    {
      "cell_type": "code",
      "metadata": {
        "id": "nQeoYYu3yvL2",
        "colab_type": "code",
        "colab": {}
      },
      "source": [
        "e_vl,e_vr = linalg.eig(A)"
      ],
      "execution_count": 0,
      "outputs": []
    },
    {
      "cell_type": "code",
      "metadata": {
        "id": "yqcOKxnHzVMM",
        "colab_type": "code",
        "colab": {
          "base_uri": "https://localhost:8080/",
          "height": 51
        },
        "outputId": "e31a922e-57e5-4c23-ca5e-09281f43e9b7"
      },
      "source": [
        "e_vl"
      ],
      "execution_count": 7,
      "outputs": [
        {
          "output_type": "execute_result",
          "data": {
            "text/plain": [
              "array([ 1.81185012+0.j        , -0.08760804+0.48496291j,\n",
              "       -0.08760804-0.48496291j,  0.50836249+0.j        ])"
            ]
          },
          "metadata": {
            "tags": []
          },
          "execution_count": 7
        }
      ]
    },
    {
      "cell_type": "code",
      "metadata": {
        "id": "wM4EdyuyzlZp",
        "colab_type": "code",
        "colab": {
          "base_uri": "https://localhost:8080/",
          "height": 153
        },
        "outputId": "25c70aa8-31cc-431a-eff7-79c7ae0ac358"
      },
      "source": [
        "e_vr"
      ],
      "execution_count": 8,
      "outputs": [
        {
          "output_type": "execute_result",
          "data": {
            "text/plain": [
              "array([[ 0.50302611+0.j        , -0.1750303 -0.49467068j,\n",
              "        -0.1750303 +0.49467068j, -0.07216864+0.j        ],\n",
              "       [ 0.46681797+0.j        , -0.40775977+0.10610916j,\n",
              "        -0.40775977-0.10610916j, -0.90903854+0.j        ],\n",
              "       [ 0.5208547 +0.j        ,  0.63894034+0.j        ,\n",
              "         0.63894034-0.j        ,  0.14740613+0.j        ],\n",
              "       [ 0.50769685+0.j        , -0.22257251+0.29892282j,\n",
              "        -0.22257251-0.29892282j,  0.38303009+0.j        ]])"
            ]
          },
          "metadata": {
            "tags": []
          },
          "execution_count": 8
        }
      ]
    },
    {
      "cell_type": "code",
      "metadata": {
        "id": "zK27WQdjzmfb",
        "colab_type": "code",
        "colab": {}
      },
      "source": [
        "def f(x):\n",
        "  return x**2 + 6*np.sin(x)"
      ],
      "execution_count": 0,
      "outputs": []
    },
    {
      "cell_type": "code",
      "metadata": {
        "id": "fbcW_7Kvzrpi",
        "colab_type": "code",
        "colab": {
          "base_uri": "https://localhost:8080/",
          "height": 269
        },
        "outputId": "4ba7ab79-3818-47c8-fae5-9a5d7ccb64ea"
      },
      "source": [
        "x = np.arange(-10,10,0.1)\n",
        "plt.plot(x,f(x))\n",
        "plt.show()"
      ],
      "execution_count": 11,
      "outputs": [
        {
          "output_type": "display_data",
          "data": {
            "image/png": "[encoded data removed]",
            "text/plain": [
              "<Figure size 432x288 with 1 Axes>"
            ]
          },
          "metadata": {
            "tags": []
          }
        }
      ]
    },
    {
      "cell_type": "code",
      "metadata": {
        "id": "YNZ1aJyo0BwR",
        "colab_type": "code",
        "colab": {
          "base_uri": "https://localhost:8080/",
          "height": 187
        },
        "outputId": "baf6d791-d6d8-4851-e5c2-09af7e7fae17"
      },
      "source": [
        "optimize.minimize(f,x0=0)"
      ],
      "execution_count": 12,
      "outputs": [
        {
          "output_type": "execute_result",
          "data": {
            "text/plain": [
              "      fun: -4.15560364145581\n",
              " hess_inv: array([[0.13294183]])\n",
              "      jac: array([-5.96046448e-08])\n",
              "  message: 'Optimization terminated successfully.'\n",
              "     nfev: 18\n",
              "      nit: 5\n",
              "     njev: 6\n",
              "   status: 0\n",
              "  success: True\n",
              "        x: array([-1.17012097])"
            ]
          },
          "metadata": {
            "tags": []
          },
          "execution_count": 12
        }
      ]
    },
    {
      "cell_type": "code",
      "metadata": {
        "id": "mCGnQ7_a0Yg6",
        "colab_type": "code",
        "colab": {}
      },
      "source": [
        ""
      ],
      "execution_count": 0,
      "outputs": []
    }
  ]
}